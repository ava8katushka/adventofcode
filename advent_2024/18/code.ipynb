{
 "cells": [
  {
   "cell_type": "code",
   "execution_count": 44,
   "metadata": {},
   "outputs": [
    {
     "ename": "",
     "evalue": "",
     "output_type": "error",
     "traceback": [
      "\u001b[1;31mThe Kernel crashed while executing code in the the current cell or a previous cell. Please review the code in the cell(s) to identify a possible cause of the failure. Click <a href='https://aka.ms/vscodeJupyterKernelCrash'>here</a> for more info. View Jupyter <a href='command:jupyter.viewOutput'>log</a> for further details."
     ]
    }
   ],
   "source": [
    "from functools import cmp_to_key\n",
    "import os\n",
    "from collections import Counter, defaultdict, deque\n",
    "import re\n",
    "import sys\n",
    "from copy import deepcopy\n",
    "\n",
    "file_path = os.path.join(os.getcwd(), \"input.txt\")\n",
    "score = 0\n",
    "\n",
    "def extract_numbers(line):\n",
    "        l = filter(lambda x: len(x), line.split(\",\"))\n",
    "        return tuple(map(lambda x: int(x.strip()), l))\n",
    "\n",
    "def stringify(arr):\n",
    "      lines = [\"\".join(arr[i]) for i in range(len(arr))]\n",
    "      return \"\\n\".join(lines)\n",
    "\n",
    "with open(file_path, encoding =\"utf-8\") as f:\n",
    "      file = f.read().strip().split(\"\\n\")\n",
    "      dots = [(0, 0)]\n",
    "      x, y = dots[0]\n",
    "      directions = []\n",
    "      for line in file:\n",
    "             d, num, color = line.split(\" \")\n",
    "             num = int(num)\n",
    "             if d == \"R\":\n",
    "                    x += num\n",
    "                    directions.append(((0, 1), num))\n",
    "             elif d == \"L\":\n",
    "                    x -= num\n",
    "                    directions.append(((0, -1), num))\n",
    "             elif d == \"U\":\n",
    "                    y -= num\n",
    "                    directions.append(((-1, 0), num))\n",
    "             elif d == \"D\":\n",
    "                    y += num\n",
    "                    directions.append(((1, 0), num))\n",
    "             dots.append((x, y))\n",
    "      xs = tuple(map(lambda r: r[0], dots))\n",
    "      ys = tuple(map(lambda r: r[1], dots))\n",
    "      min_x = min(xs) + 1\n",
    "      max_x = max(xs) + 1\n",
    "      min_y = min(ys) + 1\n",
    "      max_y = max(ys) + 1\n",
    "      terra = [[\".\"] * (500) for i in range(500)]\n",
    "      x,y = (150, 150)\n",
    "      print(min_x, max_x, min_y, max_y)\n",
    "      for (x_, y_), num in directions:\n",
    "             for s in range(num):\n",
    "                    x += x_\n",
    "                    y += y_\n",
    "                    terra[x][y] = \"#\"\n",
    "                    score += 1\n",
    "      def dfs(x, y):\n",
    "             if x < 0 or y < 0 or x >= len(terra) or y >= len(terra):\n",
    "                    return\n",
    "             if terra[x][y] != \".\":\n",
    "              return\n",
    "             terra[x][y] = \"x\"\n",
    "             dfs(x + 1, y)\n",
    "             dfs(x - 1, y)\n",
    "             dfs(x, y + 1)\n",
    "             dfs(x, y - 1)\n",
    "      dfs(151, 151)\n",
    "      inside = 0\n",
    "      border = 0\n",
    "      for x in range(len(terra)):\n",
    "            for y in range(len(terra)):\n",
    "                  if terra[x][y] == \"x\":\n",
    "                        inside += 1\n",
    "                  if terra[x][y] == \"#\":\n",
    "                        border += 1\n",
    "      print(inside + border)\n",
    "                  \n",
    "      \n",
    "\n",
    "      #print(stringify(terra))\n",
    "                    \n",
    "\n",
    "\n",
    "\n",
    "      \n"
   ]
  },
  {
   "cell_type": "code",
   "execution_count": null,
   "metadata": {},
   "outputs": [],
   "source": []
  }
 ],
 "metadata": {
  "kernelspec": {
   "display_name": "Python 3",
   "language": "python",
   "name": "python3"
  },
  "language_info": {
   "codemirror_mode": {
    "name": "ipython",
    "version": 3
   },
   "file_extension": ".py",
   "mimetype": "text/x-python",
   "name": "python",
   "nbconvert_exporter": "python",
   "pygments_lexer": "ipython3",
   "version": "3.0.0"
  },
  "orig_nbformat": 4,
  "vscode": {
   "interpreter": {
    "hash": "b0fa6594d8f4cbf19f97940f81e996739fb7646882a419484c72d19e05852a7e"
   }
  }
 },
 "nbformat": 4,
 "nbformat_minor": 2
}
