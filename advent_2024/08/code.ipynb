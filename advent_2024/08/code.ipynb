{
 "cells": [
  {
   "cell_type": "code",
   "execution_count": 29,
   "metadata": {},
   "outputs": [
    {
     "name": "stdout",
     "output_type": "stream",
     "text": [
      "BBA 21409 QRZ 0 79.0\n",
      "BLA 11653 SLZ 0 43.0\n",
      "AAA 19241 ZZZ 0 71.0\n",
      "NFA 12737 XRZ 0 47.0\n",
      "DRA 14363 FDZ 0 53.0\n",
      "PSA 15989 HCZ 0 59.0\n",
      "instructions length: 271\n",
      "nodes length: 710\n",
      "endings: ['SLZ', 'XRZ', 'HCZ', 'QRZ', 'ZZZ', 'FDZ']\n",
      "res [79.0, 43.0, 71.0, 47.0, 53.0, 59.0]\n",
      "score 9606140307013.0\n"
     ]
    }
   ],
   "source": [
    "from functools import cmp_to_key\n",
    "import os\n",
    "from collections import Counter, defaultdict\n",
    "import re\n",
    "\n",
    "file_path = os.path.join(os.getcwd(), \"input.txt\")\n",
    "score = 0\n",
    "\n",
    "def extract_numbers(line):\n",
    "        l = filter(lambda x: len(x), line.split(\" \"))\n",
    "        return list(map(lambda x: int(x.strip()), l))\n",
    "\n",
    "def end(nodes):\n",
    "     for node in nodes:\n",
    "          if node[-1] != \"Z\":\n",
    "               return False\n",
    "     return True\n",
    " \n",
    "\n",
    "with open(file_path, encoding =\"utf-8\") as f:\n",
    "    file = f.read().strip().split(\"\\n\")\n",
    "    inst = file[0]\n",
    "    left = {}\n",
    "    right = {}\n",
    "    start = []\n",
    "    ends = []\n",
    "    for i in range(2, len(file)):\n",
    "        txt = file[i]\n",
    "        x = re.findall(\"(\\S*) = \\((\\S*), (\\S*)\\)\", txt)\n",
    "        node, l, r = x[0]\n",
    "        left[node] = l\n",
    "        right[node] = r\n",
    "        if node[-1] == \"A\":\n",
    "             start.append(node)\n",
    "        if node[-1] == \"Z\":\n",
    "             ends.append(node)\n",
    "    def min_steps(cur):\n",
    "        i = 0\n",
    "        while i == 0 or cur[-1] != \"Z\":\n",
    "          di = inst[i % len(inst)]\n",
    "          if di == \"L\":\n",
    "               cur = left[cur]\n",
    "          else:\n",
    "               cur = right[cur]\n",
    "          i += 1\n",
    "        return i, cur\n",
    "    res = []\n",
    "    score = 1\n",
    "    for node in start:\n",
    "         steps, z_node = min_steps(node)\n",
    "         print(node, steps, z_node, steps % len(inst), steps / len(inst))\n",
    "         res.append(steps / len(inst))\n",
    "         score *= res[-1]\n",
    "     \n",
    "\n",
    "    print(\"instructions length:\", len(inst))\n",
    "    print(\"nodes length:\", len(left))\n",
    "    print(\"endings:\", ends)\n",
    "    print(\"res\", res)\n",
    "    print(\"score\", score * len(inst))\n",
    "         \n",
    "         \n",
    "\n",
    "    \n",
    "        \n",
    "                  \n",
    "             \n",
    "    \n",
    "\n",
    "        \n",
    "\n",
    "\n",
    "\n",
    "\n",
    "\n",
    "\n",
    "\n",
    "        \n",
    "\n"
   ]
  },
  {
   "cell_type": "code",
   "execution_count": null,
   "metadata": {},
   "outputs": [],
   "source": [
    " "
   ]
  }
 ],
 "metadata": {
  "kernelspec": {
   "display_name": "Python 3",
   "language": "python",
   "name": "python3"
  },
  "language_info": {
   "codemirror_mode": {
    "name": "ipython",
    "version": 3
   },
   "file_extension": ".py",
   "mimetype": "text/x-python",
   "name": "python",
   "nbconvert_exporter": "python",
   "pygments_lexer": "ipython3",
   "version": "3.0.0"
  },
  "orig_nbformat": 4,
  "vscode": {
   "interpreter": {
    "hash": "b0fa6594d8f4cbf19f97940f81e996739fb7646882a419484c72d19e05852a7e"
   }
  }
 },
 "nbformat": 4,
 "nbformat_minor": 2
}
