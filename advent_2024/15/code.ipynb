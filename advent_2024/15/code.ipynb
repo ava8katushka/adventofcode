{
 "cells": [
  {
   "cell_type": "code",
   "execution_count": 6,
   "metadata": {},
   "outputs": [
    {
     "name": "stdout",
     "output_type": "stream",
     "text": [
      "516469\n"
     ]
    }
   ],
   "source": [
    "from functools import cmp_to_key\n",
    "import os\n",
    "from collections import Counter, defaultdict, deque\n",
    "import re\n",
    "import sys\n",
    "from copy import deepcopy\n",
    "\n",
    "file_path = os.path.join(os.getcwd(), \"input.txt\")\n",
    "score = 0\n",
    "\n",
    "def extract_numbers(line):\n",
    "        l = filter(lambda x: len(x), line.split(\",\"))\n",
    "        return tuple(map(lambda x: int(x.strip()), l))\n",
    "\n",
    "def hash(score, line, i):\n",
    "    if i >= len(line):\n",
    "          return score\n",
    "    acii = ord(line[i])\n",
    "    score += acii\n",
    "    score *= 17\n",
    "    score %= 256\n",
    "    return hash(score, line, i + 1)\n",
    "\n",
    "       \n",
    "\n",
    "  \n",
    "\n",
    "with open(file_path, encoding =\"utf-8\") as f:\n",
    "      file = f.read().strip().split(\",\")\n",
    "      for line in file:\n",
    "            cur = hash(0, line, 0)\n",
    "            score += cur\n",
    "      print(score)\n",
    "      \n",
    "\n",
    "\n",
    "\n",
    "      \n"
   ]
  }
 ],
 "metadata": {
  "kernelspec": {
   "display_name": "Python 3",
   "language": "python",
   "name": "python3"
  },
  "language_info": {
   "codemirror_mode": {
    "name": "ipython",
    "version": 3
   },
   "file_extension": ".py",
   "mimetype": "text/x-python",
   "name": "python",
   "nbconvert_exporter": "python",
   "pygments_lexer": "ipython3",
   "version": "3.0.0"
  },
  "orig_nbformat": 4,
  "vscode": {
   "interpreter": {
    "hash": "b0fa6594d8f4cbf19f97940f81e996739fb7646882a419484c72d19e05852a7e"
   }
  }
 },
 "nbformat": 4,
 "nbformat_minor": 2
}
