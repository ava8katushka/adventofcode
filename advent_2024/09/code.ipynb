{
 "cells": [
  {
   "cell_type": "code",
   "execution_count": 11,
   "metadata": {},
   "outputs": [
    {
     "name": "stdout",
     "output_type": "stream",
     "text": [
      "964\n"
     ]
    }
   ],
   "source": [
    "from functools import cmp_to_key\n",
    "import os\n",
    "from collections import Counter, defaultdict, deque\n",
    "import re\n",
    "\n",
    "file_path = os.path.join(os.getcwd(), \"input.txt\")\n",
    "score = 0\n",
    "\n",
    "def extract_numbers(line):\n",
    "        l = filter(lambda x: len(x), line.split(\" \"))\n",
    "        return list(map(lambda x: int(x.strip()), l))\n",
    "\n",
    "def get_next(nums):\n",
    "     big = [deque(nums)]\n",
    "     i = 0\n",
    "     while True:\n",
    "           new_arr = deque()\n",
    "           all_zero = True\n",
    "           for j in range(1, len(big[i])):\n",
    "                 diff = big[i][j] - big[i][j - 1]\n",
    "                 new_arr.append(diff)\n",
    "                 if diff != 0:\n",
    "                     all_zero = False\n",
    "           big.append(new_arr)\n",
    "           if all_zero:\n",
    "                 break\n",
    "           i += 1\n",
    "     while i >= 0:\n",
    "         new_num = big[i][0] - big[i + 1][0]\n",
    "         big[i].appendleft(new_num)\n",
    "         i -= 1\n",
    "     #print(big)\n",
    "     return big[0][0]\n",
    "\n",
    " \n",
    "\n",
    "with open(file_path, encoding =\"utf-8\") as f:\n",
    "    file = f.read().strip().split(\"\\n\")\n",
    "    score = 0\n",
    "    for line in file:\n",
    "          nums = extract_numbers(line)\n",
    "          score += get_next(nums)\n",
    "print(score)\n",
    "    \n",
    "         \n",
    "         \n",
    "\n",
    "    \n",
    "        \n",
    "                  \n",
    "             \n",
    "    \n",
    "\n",
    "        \n",
    "\n",
    "\n",
    "\n",
    "\n",
    "\n",
    "\n",
    "\n",
    "        \n",
    "\n"
   ]
  },
  {
   "cell_type": "code",
   "execution_count": null,
   "metadata": {},
   "outputs": [],
   "source": [
    " "
   ]
  }
 ],
 "metadata": {
  "kernelspec": {
   "display_name": "Python 3",
   "language": "python",
   "name": "python3"
  },
  "language_info": {
   "codemirror_mode": {
    "name": "ipython",
    "version": 3
   },
   "file_extension": ".py",
   "mimetype": "text/x-python",
   "name": "python",
   "nbconvert_exporter": "python",
   "pygments_lexer": "ipython3",
   "version": "3.0.0"
  },
  "orig_nbformat": 4,
  "vscode": {
   "interpreter": {
    "hash": "b0fa6594d8f4cbf19f97940f81e996739fb7646882a419484c72d19e05852a7e"
   }
  }
 },
 "nbformat": 4,
 "nbformat_minor": 2
}
