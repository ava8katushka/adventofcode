{
 "cells": [
  {
   "cell_type": "code",
   "execution_count": 33,
   "metadata": {},
   "outputs": [
    {
     "name": "stdout",
     "output_type": "stream",
     "text": [
      "13114317\n"
     ]
    }
   ],
   "source": [
    "import os\n",
    "from collections import defaultdict\n",
    "file_path = os.path.join(os.getcwd(), \"input.txt\")\n",
    "score = 0\n",
    "\n",
    "def extract_numbers(line):\n",
    "        l = filter(lambda x: len(x), line.split(\" \"))\n",
    "        return list(map(lambda x: int(x.strip()), l))\n",
    "\n",
    "hash = defaultdict(int)\n",
    "\n",
    "with open(file_path, encoding =\"utf-8\") as f:\n",
    "    file = f.read().strip().split(\"\\n\")\n",
    "    score = 0\n",
    "    for i in range(len(file)):\n",
    "        hash[i + 1] = 1\n",
    "    \n",
    "    for i, line in enumerate(file):\n",
    "        lucky_num, card = line.strip().split('|')\n",
    "        _, l = lucky_num.split(str(i + 1) + \":\")\n",
    "        lucky =  set(extract_numbers(l))\n",
    "        my = extract_numbers(card)\n",
    "        win = 0\n",
    "        for num in my:\n",
    "            if num in lucky:\n",
    "                 win += 1\n",
    "        for j in range(i + 2, i + win + 2):\n",
    "            hash[j] += hash[i + 1]\n",
    "        score += hash[i + 1]\n",
    "             \n",
    "        \n",
    "    print(score)\n",
    "\n",
    "        \n",
    "\n",
    "\n",
    "\n",
    "\n",
    "\n",
    "\n",
    "\n",
    "        \n",
    "\n"
   ]
  },
  {
   "cell_type": "code",
   "execution_count": null,
   "metadata": {},
   "outputs": [],
   "source": [
    " "
   ]
  }
 ],
 "metadata": {
  "kernelspec": {
   "display_name": "Python 3",
   "language": "python",
   "name": "python3"
  },
  "language_info": {
   "codemirror_mode": {
    "name": "ipython",
    "version": 3
   },
   "file_extension": ".py",
   "mimetype": "text/x-python",
   "name": "python",
   "nbconvert_exporter": "python",
   "pygments_lexer": "ipython3",
   "version": "3.0.0"
  },
  "orig_nbformat": 4,
  "vscode": {
   "interpreter": {
    "hash": "b0fa6594d8f4cbf19f97940f81e996739fb7646882a419484c72d19e05852a7e"
   }
  }
 },
 "nbformat": 4,
 "nbformat_minor": 2
}
