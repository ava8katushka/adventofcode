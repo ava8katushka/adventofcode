{
 "cells": [
  {
   "cell_type": "code",
   "execution_count": 3,
   "metadata": {},
   "outputs": [
    {
     "name": "stdout",
     "output_type": "stream",
     "text": [
      "13 13\n",
      "2413432311323\n",
      "3215453535623\n",
      "3255245654254\n",
      "3446585845452\n",
      "4546657867536\n",
      "1438598798454\n",
      "4457876987766\n",
      "3637877979653\n",
      "4654967986887\n",
      "4564679986453\n",
      "1224686865563\n",
      "2546548887735\n",
      "4322674655533\n",
      "0\n"
     ]
    }
   ],
   "source": [
    "from functools import cmp_to_key\n",
    "import os\n",
    "from collections import Counter, defaultdict, deque\n",
    "import re\n",
    "import sys\n",
    "from copy import deepcopy\n",
    "\n",
    "file_path = os.path.join(os.getcwd(), \"input_test.txt\")\n",
    "score = 0\n",
    "\n",
    "def extract_numbers(line):\n",
    "        l = filter(lambda x: len(x), line.split(\",\"))\n",
    "        return tuple(map(lambda x: int(x.strip()), l))\n",
    "\n",
    "\n",
    "                     \n",
    "\n",
    "with open(file_path, encoding =\"utf-8\") as f:\n",
    "      file = f.read().strip().split(\"\\n\")\n",
    "      print(len(file), len(file[0]))\n",
    "      n = len(file)\n",
    "      visited = set()\n",
    "      d = ((0, 1), (1, 0), (0, -1), (-1, 0))\n",
    "      def solve(pos, score):\n",
    "             if pos == (n - 1, n - 1):\n",
    "                    return score\n",
    "             good_score = float(\"inf\")\n",
    "             visited.add(pos)\n",
    "             for opt in d:\n",
    "                    x, y = pos[0] + opt[0], pos[1] + opt[1]\n",
    "                    if 0 > x or x >= n or 0 > y or y >= n:\n",
    "                           continue\n",
    "                    if (x, y) in visited:\n",
    "                           continue\n",
    "                    new_score = solve((x, y), score + int(file[x][y]))\n",
    "                    if new_score > good_score:\n",
    "                           good_score = new_score\n",
    "                    else:\n",
    "             return good_score\n",
    "                    \n",
    "      print(score)\n",
    "\n",
    "\n",
    "\n",
    "      \n"
   ]
  }
 ],
 "metadata": {
  "kernelspec": {
   "display_name": "Python 3",
   "language": "python",
   "name": "python3"
  },
  "language_info": {
   "codemirror_mode": {
    "name": "ipython",
    "version": 3
   },
   "file_extension": ".py",
   "mimetype": "text/x-python",
   "name": "python",
   "nbconvert_exporter": "python",
   "pygments_lexer": "ipython3",
   "version": "3.0.0"
  },
  "orig_nbformat": 4,
  "vscode": {
   "interpreter": {
    "hash": "b0fa6594d8f4cbf19f97940f81e996739fb7646882a419484c72d19e05852a7e"
   }
  }
 },
 "nbformat": 4,
 "nbformat_minor": 2
}
