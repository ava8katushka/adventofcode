{
 "cells": [
  {
   "cell_type": "code",
   "execution_count": 61,
   "metadata": {},
   "outputs": [
    {
     "name": "stdout",
     "output_type": "stream",
     "text": [
      " []\n",
      "54578\n"
     ]
    }
   ],
   "source": [
    "import os\n",
    "file_path = os.path.join(os.getcwd(), \"input.txt\")\n",
    "score = 0\n",
    "d = {\"one\" : 1, \"two\" : 2, \"three\" : 3, \"four\" : 4, \"five\" : 5, \"six\" : 6, \"seven\" : 7, \"eight\" : 8, \"nine\" : 9}\n",
    "with open(file_path, encoding =\"utf-8\") as f:\n",
    "    arr = f.read().split(\"\\n\")\n",
    "    for s in arr:\n",
    "        num = []\n",
    "        string = \"\"\n",
    "        for i, k in enumerate(s):\n",
    "            if k.isdigit():\n",
    "                num.append(k)\n",
    "            else:\n",
    "                for word in d:\n",
    "                    start = i + 1 - len(word)\n",
    "                    end = i + 1\n",
    "                    t = s[start: end]\n",
    "                    if len(t) > 0 and word in t:\n",
    "                        num.append(d[word])                \n",
    "        if len(num):\n",
    "            score += int(str(num[0]) + str(num[-1]))\n",
    "        else:\n",
    "            print(s, num)\n",
    "\n",
    "\n",
    "print(score)"
   ]
  }
 ],
 "metadata": {
  "kernelspec": {
   "display_name": "Python 3",
   "language": "python",
   "name": "python3"
  },
  "language_info": {
   "codemirror_mode": {
    "name": "ipython",
    "version": 3
   },
   "file_extension": ".py",
   "mimetype": "text/x-python",
   "name": "python",
   "nbconvert_exporter": "python",
   "pygments_lexer": "ipython3",
   "version": "3.0.0"
  },
  "orig_nbformat": 4,
  "vscode": {
   "interpreter": {
    "hash": "b0fa6594d8f4cbf19f97940f81e996739fb7646882a419484c72d19e05852a7e"
   }
  }
 },
 "nbformat": 4,
 "nbformat_minor": 2
}
