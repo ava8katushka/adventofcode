{
 "cells": [
  {
   "cell_type": "code",
   "execution_count": 29,
   "metadata": {},
   "outputs": [
    {
     "name": "stdout",
     "output_type": "stream",
     "text": [
      "6226\n"
     ]
    }
   ],
   "source": [
    "from functools import cmp_to_key\n",
    "import os\n",
    "from collections import Counter, defaultdict, deque\n",
    "import re\n",
    "import sys\n",
    "from copy import deepcopy\n",
    "\n",
    "file_path = os.path.join(os.getcwd(), \"input.txt\")\n",
    "score = 0\n",
    "locations = defaultdict(list)\n",
    "\n",
    "def stringify(arr):\n",
    "      lines = [\"\".join(arr[i]) for i in range(len(arr))]\n",
    "      return \"\\n\".join(lines)\n",
    "\n",
    "\n",
    "with open(file_path, encoding =\"utf-8\") as f:\n",
    "      file = f.read().strip().split(\"\\n\")\n",
    "      #print(stringify(file))\n",
    "      file = [list(line) for line in file]\n",
    "      inter = set()\n",
    "      graph = {}\n",
    "      def is_valid(i, j):\n",
    "              if i < 0 or i >= len(file):\n",
    "                     return False\n",
    "              if j < 0 or j >= len(file[0]):\n",
    "                     return False\n",
    "              return True\n",
    "      def is_a(i, j):\n",
    "              return is_valid(i, j) and file[i][j] != \"#\"\n",
    "      def neigh(i, j):\n",
    "             d = ((0, 1), (1,0), (-1, 0), (0, -1))\n",
    "             all = [(i + i_, j + j_) for i_, j_ in d]\n",
    "             return [(x, y) for x, y in all if is_a(x, y)]           \n",
    "      def count_neigh(i, j):\n",
    "             return len(neigh(i, j))\n",
    "      \n",
    "      def dfs(i, j, l, visited):\n",
    "             if (i, j) in inter and (i, j) not in visited:\n",
    "                    return [((i, j), l)]\n",
    "             res = []\n",
    "             visited[(i, j)] = l\n",
    "             for ne in neigh(i, j):\n",
    "                    if ne not in visited:\n",
    "                           res += dfs(*ne, l + 1, visited)\n",
    "             return res\n",
    "      \n",
    "      def backtrack(pos, cur, visited):\n",
    "             if pos in visited:\n",
    "                    return -1\n",
    "             if pos[0] == len(file) - 1:\n",
    "                    return cur\n",
    "             visited.add(pos)\n",
    "             max_path = -1\n",
    "             for ne, d in graph[pos]:\n",
    "                    path = backtrack(ne, cur + d, visited)\n",
    "                    #print(pos, ne, path)\n",
    "                    max_path = max(path, max_path)\n",
    "             visited.remove(pos)\n",
    "             return max_path\n",
    "                    \n",
    "             \n",
    "\n",
    "      for i, line in enumerate(file):\n",
    "            for j, char in enumerate(line):\n",
    "                  if char != \"#\":\n",
    "                        if count_neigh(i, j) > 2:\n",
    "                               inter.add((i, j))\n",
    "                        if count_neigh(i, j) == 1:\n",
    "                               inter.add((i, j))\n",
    "       \n",
    "      for (i, j) in inter:\n",
    "             visited = {}\n",
    "             visited[(i, j)] = 0\n",
    "             graph[(i, j)] = dfs(i, j, 0, visited)\n",
    "      print(backtrack((0, 1), 0, set()))\n",
    "                    \n",
    "                    \n",
    "             \n",
    "                    \n",
    "\n",
    "\n",
    "\n",
    "      \n"
   ]
  },
  {
   "cell_type": "code",
   "execution_count": null,
   "metadata": {},
   "outputs": [],
   "source": []
  }
 ],
 "metadata": {
  "kernelspec": {
   "display_name": "Python 3",
   "language": "python",
   "name": "python3"
  },
  "language_info": {
   "codemirror_mode": {
    "name": "ipython",
    "version": 3
   },
   "file_extension": ".py",
   "mimetype": "text/x-python",
   "name": "python",
   "nbconvert_exporter": "python",
   "pygments_lexer": "ipython3",
   "version": "3.0.0"
  },
  "orig_nbformat": 4,
  "vscode": {
   "interpreter": {
    "hash": "b0fa6594d8f4cbf19f97940f81e996739fb7646882a419484c72d19e05852a7e"
   }
  }
 },
 "nbformat": 4,
 "nbformat_minor": 2
}
