{
 "cells": [
  {
   "cell_type": "code",
   "execution_count": 12,
   "metadata": {},
   "outputs": [
    {
     "name": "stdout",
     "output_type": "stream",
     "text": [
      "81997870\n"
     ]
    }
   ],
   "source": [
    "import os\n",
    "file_path = os.path.join(os.getcwd(), \"input.txt\")\n",
    "score = 0\n",
    "\n",
    "with open(file_path, encoding =\"utf-8\") as f:\n",
    "    file = f.read().strip().split(\"\\n\")\n",
    "    score = 0\n",
    "    curNum = 0\n",
    "    id = 0\n",
    "    id_table = {}\n",
    "    id_to_num = {}\n",
    "\n",
    "    def check_adj(i, j):\n",
    "        near = ((1, 0), (1, 1), (0, 1), (1, -1), (0, -1), (-1, 0), (-1, -1), (-1, 1))\n",
    "        neigh = set()\n",
    "        for c in near:\n",
    "            x = i + c[0]\n",
    "            y = j + c[1]\n",
    "            if x < 0 or y < 0 or x >= len(file) or y >= len(file[0]):\n",
    "                continue\n",
    "            if (x,y) in id_table:\n",
    "                id = id_table[(x,y)]\n",
    "                neigh.add(id)\n",
    "        neigh = list(neigh)\n",
    "        if len(neigh) != 2:\n",
    "            return 0\n",
    "        return id_to_num[neigh[0]] * id_to_num[neigh[1]]\n",
    "    \n",
    "    for i, line in enumerate(file):\n",
    "        for j, ch in enumerate(line):\n",
    "            if ch.isdigit():\n",
    "                curNum = curNum * 10 + int(ch)\n",
    "                id_table[(i, j)] = id\n",
    "                id_to_num[id] = curNum\n",
    "            else:\n",
    "                id += 1\n",
    "                curNum = 0\n",
    "    for i, line in enumerate(file):\n",
    "        for j, ch in enumerate(line):\n",
    "            if ch == \"*\":\n",
    "                score += check_adj(i, j)\n",
    "    print(score)\n",
    "\n",
    "\n",
    "\n",
    "\n",
    "\n",
    "        \n",
    "\n"
   ]
  }
 ],
 "metadata": {
  "kernelspec": {
   "display_name": "Python 3",
   "language": "python",
   "name": "python3"
  },
  "language_info": {
   "codemirror_mode": {
    "name": "ipython",
    "version": 3
   },
   "file_extension": ".py",
   "mimetype": "text/x-python",
   "name": "python",
   "nbconvert_exporter": "python",
   "pygments_lexer": "ipython3",
   "version": "3.0.0"
  },
  "orig_nbformat": 4,
  "vscode": {
   "interpreter": {
    "hash": "b0fa6594d8f4cbf19f97940f81e996739fb7646882a419484c72d19e05852a7e"
   }
  }
 },
 "nbformat": 4,
 "nbformat_minor": 2
}
