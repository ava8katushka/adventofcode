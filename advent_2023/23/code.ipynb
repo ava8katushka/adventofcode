{
 "cells": [
  {
   "cell_type": "code",
   "execution_count": 8,
   "metadata": {},
   "outputs": [
    {
     "name": "stdout",
     "output_type": "stream",
     "text": [
      "(154, True)\n"
     ]
    }
   ],
   "source": [
    "from functools import cmp_to_key\n",
    "import os\n",
    "from collections import Counter, defaultdict, deque\n",
    "import re\n",
    "import sys\n",
    "from copy import deepcopy\n",
    "\n",
    "file_path = os.path.join(os.getcwd(), \"input_test.txt\")\n",
    "score = 0\n",
    "locations = defaultdict(list)\n",
    "\n",
    "def extract_numbers(line):\n",
    "        l = filter(lambda x: len(x), line.split(\",\"))\n",
    "        return tuple(map(lambda x: int(x.strip()), l))\n",
    "\n",
    "def stringify(arr):\n",
    "      lines = [\"\".join(arr[i]) for i in range(len(arr))]\n",
    "      return \"\\n\".join(lines)\n",
    "\n",
    "def dfs(i, j, file):\n",
    "       if i < 0 or i >= len(file):\n",
    "              return 0, False\n",
    "       if j < 0 or j >= len(file[0]):\n",
    "              return 0, False\n",
    "       symbol = file[i][j]\n",
    "       if symbol == \"#\":\n",
    "              return 0, False\n",
    "       if i == len(file) - 1:\n",
    "              return 1, True\n",
    "       file[i][j] = \"#\"\n",
    "       res = 0\n",
    "       shift = ((0,1), (1,0), (0, -1), (-1, 0))\n",
    "       finish = False\n",
    "       w = 0\n",
    "       for i_, j_ in shift:\n",
    "              res_l, finish_l = dfs(i + i_, j + j_, file)\n",
    "              if finish_l:\n",
    "                     res = max(res, res_l + 1)\n",
    "                     finish = True\n",
    "       file[i][j] = symbol\n",
    "       return res, finish\n",
    "       \n",
    "\n",
    "with open(file_path, encoding =\"utf-8\") as f:\n",
    "      file = f.read().strip().split(\"\\n\")\n",
    "      #print(stringify(file))\n",
    "      file = [list(line) for line in file]\n",
    "      sys.setrecursionlimit(len(file)**2)\n",
    "      print(dfs(1, 1, file))\n",
    "                    \n",
    "\n",
    "\n",
    "\n",
    "      \n"
   ]
  },
  {
   "cell_type": "code",
   "execution_count": null,
   "metadata": {},
   "outputs": [],
   "source": []
  }
 ],
 "metadata": {
  "kernelspec": {
   "display_name": "Python 3",
   "language": "python",
   "name": "python3"
  },
  "language_info": {
   "codemirror_mode": {
    "name": "ipython",
    "version": 3
   },
   "file_extension": ".py",
   "mimetype": "text/x-python",
   "name": "python",
   "nbconvert_exporter": "python",
   "pygments_lexer": "ipython3",
   "version": "3.0.0"
  },
  "orig_nbformat": 4,
  "vscode": {
   "interpreter": {
    "hash": "b0fa6594d8f4cbf19f97940f81e996739fb7646882a419484c72d19e05852a7e"
   }
  }
 },
 "nbformat": 4,
 "nbformat_minor": 2
}
