{
 "cells": [
  {
   "cell_type": "code",
   "execution_count": 37,
   "metadata": {},
   "outputs": [
    {
     "name": "stdout",
     "output_type": "stream",
     "text": [
      "6897.0\n",
      "(35, 17)\n"
     ]
    }
   ],
   "source": [
    "from functools import cmp_to_key\n",
    "import os\n",
    "from collections import Counter, defaultdict, deque\n",
    "import re\n",
    "import sys\n",
    "\n",
    "file_path = os.path.join(os.getcwd(), \"input.txt\")\n",
    "score = 0\n",
    "\n",
    "def extract_numbers(line):\n",
    "        l = filter(lambda x: len(x), line.split(\" \"))\n",
    "        return list(map(lambda x: int(x.strip()), l))\n",
    "\n",
    "\n",
    "\n",
    "with open(file_path, encoding =\"utf-8\") as f:\n",
    "      file = f.read().strip().split(\"\\n\")\n",
    "      score = 0\n",
    "      start = None\n",
    "      for i in range(len(file)):\n",
    "            for j in range(len(file[i])):\n",
    "                  if file[i][j] == \"S\":\n",
    "                        start = (i, j)\n",
    "      def dfs(i, j, d, v):\n",
    "            if i < 0 or j < 0 or i >= len(file) or j >= len(file[i]):\n",
    "                  return None\n",
    "            if (i, j) == start and d != \"\":\n",
    "                  return 0\n",
    "            if (i, j) in v:\n",
    "                  return None\n",
    "            node = Node(file[i][j])\n",
    "            if d != \"\" and node.match(d) == 0:\n",
    "                  return None\n",
    "            v.add((i, j))\n",
    "            if d != \"U\":\n",
    "                  u = dfs(i + 1, j, \"D\", v)\n",
    "                  if not u is None:\n",
    "                        return u + 1\n",
    "            if d != \"D\":\n",
    "                  u = dfs(i - 1, j, \"U\", v)\n",
    "                  if not u is None:\n",
    "                        return u + 1\n",
    "            if d != \"L\":\n",
    "                  l = dfs(i, j + 1, \"R\", v)\n",
    "                  if not l is None:\n",
    "                        return l + 1\n",
    "            if d != \"R\":\n",
    "                  r = dfs(i, j - 1, \"L\", v)\n",
    "                  if not r is None:\n",
    "                        return r + 1\n",
    "\n",
    "\n",
    "      visited = set()\n",
    "      sys.setrecursionlimit(len(file) * len(file[0]))\n",
    "      res = dfs(pos[0], pos[1], \"\", visited)\n",
    "      print(res / 2)\n",
    "\n",
    "\n",
    "         \n",
    "\n",
    "\n",
    "      \n",
    "          \n",
    "print(pos)\n",
    "    \n",
    "         \n",
    "         \n",
    "\n",
    "    \n",
    "        \n",
    "                  \n",
    "             \n",
    "    \n",
    "\n",
    "        \n",
    "\n",
    "\n",
    "\n",
    "\n",
    "\n",
    "\n",
    "\n",
    "        \n",
    "\n"
   ]
  },
  {
   "cell_type": "code",
   "execution_count": null,
   "metadata": {},
   "outputs": [],
   "source": [
    "..F7.\n",
    ".FJ|.\n",
    "SJ.L7\n",
    "|F--J\n",
    "LJ..."
   ]
  }
 ],
 "metadata": {
  "kernelspec": {
   "display_name": "Python 3",
   "language": "python",
   "name": "python3"
  },
  "language_info": {
   "codemirror_mode": {
    "name": "ipython",
    "version": 3
   },
   "file_extension": ".py",
   "mimetype": "text/x-python",
   "name": "python",
   "nbconvert_exporter": "python",
   "pygments_lexer": "ipython3",
   "version": "3.0.0"
  },
  "orig_nbformat": 4,
  "vscode": {
   "interpreter": {
    "hash": "b0fa6594d8f4cbf19f97940f81e996739fb7646882a419484c72d19e05852a7e"
   }
  }
 },
 "nbformat": 4,
 "nbformat_minor": 2
}
