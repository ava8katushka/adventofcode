{
 "cells": [
  {
   "cell_type": "code",
   "execution_count": 12,
   "metadata": {},
   "outputs": [
    {
     "name": "stdout",
     "output_type": "stream",
     "text": [
      "1853\n"
     ]
    }
   ],
   "source": [
    "import os\n",
    "file_path = os.path.join(os.getcwd(), \"input_test.txt\")\n",
    "score = 0\n",
    "\n",
    "with open(file_path, encoding =\"utf-8\") as f:\n",
    "    arr = f.read().split(\"\\n\")\n",
    "    game_id = 1\n",
    "    score = 0\n",
    "    for entry in arr:\n",
    "        cset = entry.split(\": \")\n",
    "        if len(cset) <= 1:\n",
    "            continue\n",
    "        cset = cset[1].split(\"; \")\n",
    "        max_cols = {\"blue\" : 0, \"red\" : 0, \"green\" : 0}\n",
    "        for c in cset:\n",
    "            colors = c.split(\", \")\n",
    "            for color in colors:\n",
    "                t = color.split(\" \")\n",
    "                num = int(t[0])\n",
    "                col = t[1]\n",
    "                if num > max_cols[col]:\n",
    "                    max_cols[col] = num\n",
    "        if game_valid:\n",
    "            score += game_id\n",
    "        game_id += 1\n",
    "    print(score)\n",
    "        \n",
    "\n"
   ]
  }
 ],
 "metadata": {
  "kernelspec": {
   "display_name": "Python 3",
   "language": "python",
   "name": "python3"
  },
  "language_info": {
   "codemirror_mode": {
    "name": "ipython",
    "version": 3
   },
   "file_extension": ".py",
   "mimetype": "text/x-python",
   "name": "python",
   "nbconvert_exporter": "python",
   "pygments_lexer": "ipython3",
   "version": "3.9.10"
  },
  "orig_nbformat": 4,
  "vscode": {
   "interpreter": {
    "hash": "b0fa6594d8f4cbf19f97940f81e996739fb7646882a419484c72d19e05852a7e"
   }
  }
 },
 "nbformat": 4,
 "nbformat_minor": 2
}
