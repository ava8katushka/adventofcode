{
 "cells": [
  {
   "cell_type": "code",
   "execution_count": 18,
   "metadata": {},
   "outputs": [
    {
     "name": "stdout",
     "output_type": "stream",
     "text": [
      "['Time:      7  15   30', 'Distance:  9  40  200']\n",
      "71503\n"
     ]
    }
   ],
   "source": [
    "import os\n",
    "from collections import defaultdict\n",
    "file_path = os.path.join(os.getcwd(), \"input_test.txt\")\n",
    "score = 0\n",
    "\n",
    "def extract_numbers(line):\n",
    "        l = filter(lambda x: len(x), line.split(\" \"))\n",
    "        return list(map(lambda x: int(x.strip()), l))\n",
    "\n",
    "with open(file_path, encoding =\"utf-8\") as f:\n",
    "    file = f.read().strip().split(\"\\n\")\n",
    "    #34934171\n",
    "    print(file)\n",
    "    time = int(file[0].split(\":\")[1].replace(\" \", \"\"))\n",
    "    dist = int(file[1].split(\":\")[1].replace(\" \", \"\"))\n",
    "    for speedup in range(time):\n",
    "        d = (time - speedup) * speedup\n",
    "        if d > dist:\n",
    "            score += 1\n",
    "#\n",
    "print(score)\n",
    "        \n",
    "                  \n",
    "             \n",
    "    \n",
    "\n",
    "        \n",
    "\n",
    "\n",
    "\n",
    "\n",
    "\n",
    "\n",
    "\n",
    "        \n",
    "\n"
   ]
  },
  {
   "cell_type": "code",
   "execution_count": null,
   "metadata": {},
   "outputs": [],
   "source": [
    " "
   ]
  }
 ],
 "metadata": {
  "kernelspec": {
   "display_name": "Python 3",
   "language": "python",
   "name": "python3"
  },
  "language_info": {
   "codemirror_mode": {
    "name": "ipython",
    "version": 3
   },
   "file_extension": ".py",
   "mimetype": "text/x-python",
   "name": "python",
   "nbconvert_exporter": "python",
   "pygments_lexer": "ipython3",
   "version": "3.0.0"
  },
  "orig_nbformat": 4,
  "vscode": {
   "interpreter": {
    "hash": "b0fa6594d8f4cbf19f97940f81e996739fb7646882a419484c72d19e05852a7e"
   }
  }
 },
 "nbformat": 4,
 "nbformat_minor": 2
}
